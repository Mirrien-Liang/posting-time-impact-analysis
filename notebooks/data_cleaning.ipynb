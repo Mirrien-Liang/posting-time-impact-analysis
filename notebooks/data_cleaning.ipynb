{
 "cells": [
  {
   "cell_type": "markdown",
   "metadata": {},
   "source": [
    "### Import Module"
   ]
  },
  {
   "cell_type": "code",
   "execution_count": null,
   "metadata": {},
   "outputs": [],
   "source": [
    "import pandas as pd\n",
    "import numpy as np"
   ]
  },
  {
   "cell_type": "markdown",
   "metadata": {},
   "source": [
    "### Prepare columns of interest and specify their types"
   ]
  },
  {
   "cell_type": "code",
   "execution_count": null,
   "metadata": {},
   "outputs": [],
   "source": [
    "# Init constant var to store desired cols and their types\n",
    "DTYPE_DICT = {\n",
    "    \"user_id\": pd.Int64Dtype(),\n",
    "    \"status\": pd.StringDtype(),\n",
    "    \"timestamp\": pd.Int64Dtype(),\n",
    "    \"data.user_data.meta.is_private\": pd.BooleanDtype(),\n",
    "    \"data.user_data.meta.is_verified\": pd.BooleanDtype(),\n",
    "    \"data.user_data.meta.is_business_account\": pd.BooleanDtype(),\n",
    "    \"data.user_data.meta.is_professional_account\": pd.BooleanDtype(),\n",
    "    \"data.user_data.meta.has_reel\": pd.BooleanDtype(),\n",
    "    \"data.user_data.meta.total_posts_count\": pd.Int64Dtype(),\n",
    "    \"data.user_data.meta.followers_count\": pd.Int64Dtype(),\n",
    "    \"data.user_data.meta.followings_count\": pd.Int64Dtype(),\n",
    "}\n",
    "\n",
    "# Iteratively get the metrics for posts\n",
    "post_column_pattern = \"data.user_data.post.{}.{}\"\n",
    "post_metrics = {\n",
    "    \"is_video\": pd.BooleanDtype(),\n",
    "    \"video_view_count\": pd.Int64Dtype(),\n",
    "    \"comments_count\": pd.Int64Dtype(),\n",
    "    \"comments_disabled\": pd.BooleanDtype(),\n",
    "    \"taken_at_timestamp\": pd.Int64Dtype(),\n",
    "    \"likes_count\": pd.Int64Dtype(),\n",
    "    \"is_pinned\": pd.BooleanDtype(),\n",
    "}\n",
    "\n",
    "# Populate DTYPE_DICT with desired metrics for 12 posts\n",
    "for i in range(1, 13):\n",
    "    for metric, dtype in post_metrics.items():\n",
    "        column_name = post_column_pattern.format(i, metric)\n",
    "        DTYPE_DICT[column_name] = dtype\n",
    "\n",
    "# Iteratively get the metrics for reels\n",
    "reel_column_pattern = \"data.user_data.reel.{}.{}\"\n",
    "reel_metrics = {\n",
    "    \"has_audio\": pd.BooleanDtype(),\n",
    "    \"video_view_count\": pd.Int64Dtype(),\n",
    "    \"comments_count\": pd.Int64Dtype(),\n",
    "    \"comments_disabled\": pd.BooleanDtype(),\n",
    "    \"taken_at_timestamp\": pd.Int64Dtype(),\n",
    "    \"likes_count\": pd.Int64Dtype(),\n",
    "    \"video_duration\": pd.Float64Dtype(),\n",
    "}\n",
    "        \n",
    "# Populate DTYPE_DICT with desired metrics for 36 reels\n",
    "for i in range(1, 37):\n",
    "    for metric, dtype in reel_metrics.items():\n",
    "        column_name = reel_column_pattern.format(i, metric)\n",
    "        DTYPE_DICT[column_name] = dtype\n",
    "\n",
    "# Get a list of desired columns (for `read_csv()`)\n",
    "columns_to_read = list(DTYPE_DICT.keys())"
   ]
  },
  {
   "cell_type": "markdown",
   "metadata": {},
   "source": [
    "### Read Data"
   ]
  },
  {
   "cell_type": "code",
   "execution_count": null,
   "metadata": {},
   "outputs": [],
   "source": [
    "data = pd.read_csv('.././data/input/instagram.csv',\n",
    "                  encoding='utf-8',\n",
    "                  index_col=False,\n",
    "                  usecols=columns_to_read,\n",
    "                  dtype=DTYPE_DICT,)"
   ]
  },
  {
   "cell_type": "markdown",
   "metadata": {},
   "source": [
    "Filter IG account with status success, and has reels. No private accounts"
   ]
  },
  {
   "cell_type": "code",
   "execution_count": null,
   "metadata": {},
   "outputs": [],
   "source": [
    "data = data.loc[(data['status'] == 'successful') & (data['data.user_data.meta.has_reel'] == True) & (data['data.user_data.meta.is_private'] == False)]\n",
    "\n",
    "#filter out the post data, leave only reels and useful columns\n",
    "data = data.loc[:, ~data.columns.str.contains('data.user_data.post')]\n",
    "data = data.drop(['status', 'data.user_data.meta.is_private', 'data.user_data.meta.is_verified', 'data.user_data.meta.is_business_account',\t'data.user_data.meta.is_professional_account',\t'data.user_data.meta.has_reel',\t'data.user_data.meta.total_posts_count'\n",
    "], axis=1)\n"
   ]
  },
  {
   "cell_type": "markdown",
   "metadata": {},
   "source": [
    "Melt the dataframe for each row to contain each reels data"
   ]
  },
  {
   "cell_type": "code",
   "execution_count": null,
   "metadata": {},
   "outputs": [],
   "source": [
    "melted = data.melt(id_vars=['user_id', 'data.user_data.meta.followers_count', 'data.user_data.meta.followings_count', 'timestamp'], \n",
    "                 var_name='variable', \n",
    "                 value_name='value')\n",
    "melted[['reels no.', 'field']] = melted['variable'].str.extract(r'reel\\.(\\d+)\\.(.+)')\n",
    "melted.sort_values(['user_id'])\n",
    "\n",
    "stacked = melted.pivot(index=['user_id', 'reels no.', 'data.user_data.meta.followers_count', 'data.user_data.meta.followings_count', 'timestamp'], columns='field', values='value').reset_index()\n",
    "cleaned_data = stacked.rename(columns={'data.user_data.meta.followers_count': 'followers', 'data.user_data.meta.followings_count':'followings'})\n",
    "cleaned_data = cleaned_data.dropna()\n"
   ]
  },
  {
   "cell_type": "markdown",
   "metadata": {},
   "source": [
    "Look at timestamp to filter out some data samples that are too old or too recent"
   ]
  },
  {
   "cell_type": "code",
   "execution_count": null,
   "metadata": {},
   "outputs": [],
   "source": [
    "cleaned_data['posted_date'] = pd.to_datetime(cleaned_data['taken_at_timestamp'], unit='s')\n",
    "cleaned_data['timestamp'] = pd.to_datetime(cleaned_data['timestamp'], unit='s')\n",
    "cleaned_data['reel_age'] = cleaned_data['timestamp'] - cleaned_data['posted_date']\n",
    "print(\"Total reels\", cleaned_data['reel_age'].shape[0])\n",
    "print(\"Reels less than 7 days old: \", cleaned_data[cleaned_data['reel_age'].dt.days < 7].shape[0])\n",
    "print(\"Reels 7-30 days old: \",cleaned_data[(cleaned_data['reel_age'].dt.days >= 7) & (cleaned_data['reel_age'].dt.days <= 30)].shape[0])\n",
    "print(\"Reels 1-3 months: \", cleaned_data[(cleaned_data['reel_age'].dt.days >= 31) & (cleaned_data['reel_age'].dt.days <= 90)].shape[0])\n",
    "print(\"Reels 3-12 months: \", cleaned_data[(cleaned_data['reel_age'].dt.days >= 91) & (cleaned_data['reel_age'].dt.days <= 365)].shape[0])\n",
    "print(\"Reels 1-2 years: \", cleaned_data[(cleaned_data['reel_age'].dt.days > 365) & (cleaned_data['reel_age'].dt.days <= 365 * 2)].shape[0])\n",
    "print(\"Reels > 2 years: \", cleaned_data[(cleaned_data['reel_age'].dt.days > 365 * 2)].shape[0])"
   ]
  },
  {
   "cell_type": "markdown",
   "metadata": {},
   "source": [
    "Take out reels that are less than 7 days old"
   ]
  },
  {
   "cell_type": "code",
   "execution_count": null,
   "metadata": {},
   "outputs": [],
   "source": [
    "cleaned_data = cleaned_data[cleaned_data['reel_age'].dt.days >= 7]\n",
    "cleaned_data = cleaned_data.drop(['taken_at_timestamp'], axis=1)\n",
    "cleaned_data"
   ]
  },
  {
   "cell_type": "code",
   "execution_count": null,
   "metadata": {},
   "outputs": [],
   "source": []
  }
 ],
 "metadata": {
  "kernelspec": {
   "display_name": "base",
   "language": "python",
   "name": "python3"
  },
  "language_info": {
   "codemirror_mode": {
    "name": "ipython",
    "version": 3
   },
   "file_extension": ".py",
   "mimetype": "text/x-python",
   "name": "python",
   "nbconvert_exporter": "python",
   "pygments_lexer": "ipython3",
   "version": "3.12.4"
  }
 },
 "nbformat": 4,
 "nbformat_minor": 2
}
